{
 "cells": [
  {
   "cell_type": "markdown",
   "metadata": {},
   "source": [
    "# <img src=\"https://upload.wikimedia.org/wikipedia/commons/thumb/f/fb/Escudo-UdeA.svg/620px-Escudo-UdeA.svg.png\" width=\"100\" align=\"left\">\n",
    "\n",
    "<h1 style=\"text-align: center;\">  Componente Práctica - PDS 2023-2</h1>\n",
    "<h2 style=\"text-align: center;\"></h2>\n",
    "<p style=\"text-align: center;\"></p>"
   ]
  },
  {
   "cell_type": "code",
   "execution_count": null,
   "metadata": {},
   "outputs": [],
   "source": [
    "import numpy as np \n",
    "import matplotlib.pyplot as plt\n",
    "from scipy.io.wavfile import read\n",
    "from IPython.display import Audio\n",
    "from matplotlib.pylab import *\n",
    "from numpy import pi\n",
    "import scipy.signal as sp "
   ]
  },
  {
   "cell_type": "markdown",
   "metadata": {},
   "source": [
    "## 1. Se desea diseñar un Filtro FIR rechaza-bandas por el método de enventanado, si se tienen las siguientes condiciones:\n",
    "- Frecuencia de muestreo: 12 KHz\n",
    "- Frecuencia de corte 1: 2KHz\n",
    "- Frecuencia de corte 2: 4KHz\n",
    "- Ripple: 0.3%\n",
    "- Ancho de banda de la transición: 200 Hz\n",
    "\n",
    "a) Qué ventana sería la más apropiada (entre Rectangular, Hanning, Hamming y Blackman) y cuál sería el tamaño del filtro FIR si se desea un N impar?"
   ]
  },
  {
   "cell_type": "code",
   "execution_count": null,
   "metadata": {},
   "outputs": [],
   "source": [
    "#Frecuencia de corte en radianes\n",
    "\n",
    "Fs = 12000\n",
    "Fc1 = 2000\n",
    "Fc2 = 4000\n",
    "fm = 200\n",
    "\n",
    "wc1 = (2*np.pi*Fc1)/Fs       #Frecuencia de corte 1 normalizada en radianes\n",
    "wc2 = (2*np.pi*Fc2)/Fs       #Frecuencia de corte 2 normalizada en radianes\n",
    "print(\"Frecuencia de corte 1 normalizada en radianes: \", wc1)\n",
    "print(\"\\nFrecuencia de corte 2 normalizada en radianes: \", wc2)"
   ]
  },
  {
   "cell_type": "code",
   "execution_count": null,
   "metadata": {},
   "outputs": [],
   "source": [
    "#Riple en decibelios\n",
    "ripple = 0.003\n",
    "ripple_dB= 20*np.log10(ripple)\n",
    "ripple_dB\n",
    "print(\"Ripple en decibelios: \", ripple_dB)"
   ]
  },
  {
   "cell_type": "markdown",
   "metadata": {},
   "source": [
    "Según el resultado, debemos usar una ventana Hamming para diseñar el filtro.\n",
    "Se tiene la siguiente relación para M:"
   ]
  },
  {
   "cell_type": "markdown",
   "metadata": {},
   "source": [
    "## Para la ventana Hann y Hamming:  $M\\geq \\frac{4F_s}{\\Delta fm} $"
   ]
  },
  {
   "cell_type": "code",
   "execution_count": null,
   "metadata": {},
   "outputs": [],
   "source": [
    "def getM(ripple_dB, Fs, fm):\n",
    "    M = 0\n",
    "    if (-53 > ripple_dB >= -74.0):\n",
    "        print('Ventana Blackman')\n",
    "        M = 6*Fs/fm        \n",
    "    elif (-44 > ripple_dB >= -53.0):\n",
    "        print('Ventana Hamming') \n",
    "        M = 4*Fs/fm           \n",
    "    elif (-21 > ripple_dB >= -44.0):\n",
    "        print('Ventana Hann')\n",
    "        M = 4*Fs/fm        \n",
    "    elif (ripple_dB  >= -21.0):\n",
    "        print('Ventana Rectangular')\n",
    "        M = 2*Fs/fm - 1       \n",
    "    \n",
    "    if M % 2 == 0:\n",
    "        M += 1\n",
    "    return int(M)"
   ]
  },
  {
   "cell_type": "code",
   "execution_count": null,
   "metadata": {},
   "outputs": [],
   "source": [
    "M = getM( ripple_dB, Fs, fm)\n",
    "print('Orden del filtro:', M)"
   ]
  },
  {
   "cell_type": "markdown",
   "metadata": {},
   "source": [
    "b) Imponiendo una respuesta con simetría positiva y causal, halle h(n). Si el tamaño del filtro es muy grande, dar el valor de al menos los primeros 5 coeficientes, 5 coeficientes centrales y 5 coeficientes finales."
   ]
  },
  {
   "cell_type": "markdown",
   "metadata": {},
   "source": [
    "Como M se sugiere impar, se usa M= 241.\n",
    "\n",
    "- Para Calcular los coeficientes del filtro, es necesario calcular primero los coeficientes de la respuesta al impulso del filtro ideal y la respuesta impulsional de la ventana."
   ]
  },
  {
   "cell_type": "code",
   "execution_count": null,
   "metadata": {},
   "outputs": [],
   "source": [
    "wc1 = 2*pi*Fc1/Fs                                     # frecuencia de corte normalizada en radianes\n",
    "wc2 = 2*pi*Fc2/Fs                                     # frecuencia de corte normalizada en radianes\n",
    "n = np.arange(-M//2+1, M//2+1)                        # Vector de muestras\n",
    "\n",
    "hi = (wc1/pi) * np.sinc(wc1*n/pi) - (wc2/pi) * np.sinc(wc2*n/pi) # Respuesta del filtro ideal Rechaza-bandas\n",
    "hi[M//2] = 1-(wc2-wc1)/pi\n",
    "win = 0.54-0.46*np.cos(2*pi*np.arange(len(n))/(M-1))  # Ventana de Hamming\n",
    "h_n = hi*win                                          # Multiplico la respuesta ideal por la ventana\n",
    "w, h = sp.freqz(h_n, 1, whole=True, worN=2048)        # Respuesta en frecuencia del filtro enventanado"
   ]
  },
  {
   "cell_type": "code",
   "execution_count": null,
   "metadata": {},
   "outputs": [],
   "source": [
    "# Grafica\n",
    "plt.figure()\n",
    "plt.title('Respuesta en frecuencia del rechaza-banda', fontsize=18)\n",
    "plt.plot((w-pi)*Fs/(2*pi),np.abs(np.fft.fftshift(h)), label='$Filtro$')\n",
    "plt.vlines(Fc1, 0, 1, color='r', lw=2, linestyle='--', label='$F_{c1}$')\n",
    "plt.vlines(Fc2, 0, 1, color='r', lw=2, linestyle='--', label='$F_{c2}$')\n",
    "plt.vlines(Fc1+fm/2, 0, 1, color='g', lw=2, linestyle='--', label='$F_{c1}+f_m/2$')\n",
    "plt.vlines(Fc1-fm/2, 0, 1, color='g', lw=2, linestyle='--', label='$F_{c1}-f_m/2$')\n",
    "plt.vlines(Fc2+fm/2, 0, 1, color='g', lw=2, linestyle='--', label='$F_{c2}+f_m/2$')\n",
    "plt.vlines(Fc2-fm/2, 0, 1, color='g', lw=2, linestyle='--', label='$F_{c2}-f_m/2$')\n",
    "plt.xlabel('Frecuencia (Hz)', fontsize=18)\n",
    "plt.ylabel('Amplitud', fontsize=18)\n",
    "plt.xlim([0, 6000])\n",
    "plt.legend(loc='lower right')\n",
    "plt.grid()\n",
    "plt.show()"
   ]
  },
  {
   "cell_type": "code",
   "execution_count": null,
   "metadata": {},
   "outputs": [],
   "source": [
    "fig, axs = plt.subplots(1, 2, figsize=(12, 6))\n",
    "axs[0].set_title('Respuesta en frecuencia del rechaza-banda')\n",
    "axs[0].plot((w-pi)*Fs/(2*pi),np.abs(np.fft.fftshift(h)), label='$Filtro$')\n",
    "axs[0].vlines(Fc1, 0, 1, color='r', lw=2, linestyle='--', label='$F_{c1}$')\n",
    "axs[0].vlines(Fc2, 0, 1, color='r', lw=2, linestyle='--', label='$F_{c2}$')\n",
    "axs[0].vlines(Fc1+fm/2, 0, 1, color='g', lw=2, linestyle='--', label='$F_{c1}+f_m/2$')\n",
    "axs[0].vlines(Fc1-fm/2, 0, 1, color='g', lw=2, linestyle='--', label='$F_{c1}-f_m/2$')\n",
    "axs[0].vlines(Fc2+fm/2, 0, 1, color='g', lw=2, linestyle='--', label='$F_{c2}+f_m/2$')\n",
    "axs[0].vlines(Fc2-fm/2, 0, 1, color='g', lw=2, linestyle='--', label='$F_{c2}-f_m/2$')\n",
    "axs[0].set_xlabel('Frecuencia (Hz)', fontsize=18)\n",
    "axs[0].set_ylabel('Amplitud', fontsize=18)\n",
    "axs[0].set_xlim([1800, 2200])\n",
    "axs[0].grid()\n",
    "\n",
    "axs[1].set_title('Respuesta en frecuencia del rechaza-banda')\n",
    "axs[1].plot((w-pi)*Fs/(2*pi),np.abs(np.fft.fftshift(h)), label='$Filtro$')\n",
    "axs[1].vlines(Fc1, 0, 1, color='r', lw=2, linestyle='--', label='$F_{c1}$')\n",
    "axs[1].vlines(Fc2, 0, 1, color='r', lw=2, linestyle='--', label='$F_{c2}$')\n",
    "axs[1].vlines(Fc1+fm/2, 0, 1, color='g', lw=2, linestyle='--', label='$F_{c1}+f_m/2$')\n",
    "axs[1].vlines(Fc1-fm/2, 0, 1, color='g', lw=2, linestyle='--', label='$F_{c1}-f_m/2$')\n",
    "axs[1].vlines(Fc2+fm/2, 0, 1, color='g', lw=2, linestyle='--', label='$F_{c2}+f_m/2$')\n",
    "axs[1].vlines(Fc2-fm/2, 0, 1, color='g', lw=2, linestyle='--', label='$F_{c2}-f_m/2$')\n",
    "axs[1].set_xlabel('Frecuencia (Hz)', fontsize=18)\n",
    "axs[1].set_ylabel('Amplitud', fontsize=18)\n",
    "axs[1].set_xlim([3800, 4200])\n",
    "axs[1].grid()\n",
    "\n",
    "plt.tight_layout()\n",
    "plt.show()"
   ]
  },
  {
   "cell_type": "code",
   "execution_count": null,
   "metadata": {},
   "outputs": [],
   "source": [
    "print(\"hi(0) = \",np.round(hi[M//2],6))"
   ]
  },
  {
   "cell_type": "code",
   "execution_count": null,
   "metadata": {},
   "outputs": [],
   "source": [
    "hi_prime = {}  # Create an empty dictionary to store the transformed hi' values\n",
    "for i in range(-M//2, M//2+1):\n",
    "    hi_prime[i + M//2] = hi[i + M//2]  # Assign the corresponding hi value to hi' with adjusted index\n",
    "\n",
    "# Print the hi' values\n",
    "for i in range(M):\n",
    "    original_index = i - M//2  # Calculate the original index\n",
    "    print(\"hi'({}) = hi({}) =\".format(i, original_index), np.round(hi_prime[i],6))"
   ]
  },
  {
   "cell_type": "code",
   "execution_count": null,
   "metadata": {},
   "outputs": [],
   "source": [
    "win0 = 0.54-0.46*np.cos(2*pi*0/(M-1))  # Ventana de Hamming\n",
    "print(\"win(0) = \",np.round(win0,6))\n",
    "\n",
    "h_n_0 = hi_prime[0]*win0\n",
    "print(\"h_n(0) = \", np.round(h_n_0,6)) "
   ]
  },
  {
   "cell_type": "code",
   "execution_count": null,
   "metadata": {},
   "outputs": [],
   "source": [
    "print('\\nLos primeros 5 coeficientes')   \n",
    "for i in np.arange(0,4):\n",
    "    \n",
    "    print(\"hi'({}) =\".format(int(i)), np.round(hi_prime[i],6))\n",
    "    \n",
    "    win= 0.54-0.46*np.cos(2*pi*i/(M-1))  #Recordar reemplazar la M\n",
    "    print(\"win ({})=\".format(int(i)), np.round(win,6))\n",
    "\n",
    "    h_n= hi_prime[i]*win\n",
    "    print(\"h_n ({}) = \".format(int(i)), np.round(h_n,6),'\\n')  \n",
    "\n",
    "print('\\nLos 5 coeficientes centrales')\n",
    "for i in np.arange(M//2-2, M//2+3):\n",
    "    \n",
    "    print(\"hi'({}) =\".format(int(i)), np.round(hi_prime[i],6))\n",
    "    \n",
    "    win= 0.54-0.46*np.cos(2*pi*i/(M-1))  #Recordar reemplazar la M\n",
    "    print(\"win ({})=\".format(int(i)), np.round(win,6))\n",
    "\n",
    "    h_n= hi_prime[i]*win\n",
    "    print(\"h_n ({}) = \".format(int(i)), np.round(h_n,6),'\\n')\n",
    "\n",
    "print('\\nLos 5 finales') \n",
    "for i in np.arange(M-5, M):\n",
    "    \n",
    "    print(\"hi'({}) =\".format(int(i)), np.round(hi_prime[i],6))\n",
    "    \n",
    "    win= 0.54-0.46*np.cos(2*pi*i/(M-1))  #Recordar reemplazar la M\n",
    "    print(\"win ({})=\".format(int(i)), np.round(win,6))\n",
    "\n",
    "    h_n= hi_prime[i]*win\n",
    "    print(\"h_n ({}) = \".format(int(i)), np.round(h_n,6),'\\n')\n"
   ]
  },
  {
   "cell_type": "markdown",
   "metadata": {},
   "source": [
    "Gráficas de la respuesta al impulso y el espectro resultante"
   ]
  },
  {
   "cell_type": "code",
   "execution_count": null,
   "metadata": {},
   "outputs": [],
   "source": [
    "n = np.arange(-M//2,M//2)   #Vector de muestras\n",
    "hi = +(wc1/np.pi)*np.sinc((wc1*n)/np.pi) - (wc2/np.pi)*np.sinc((wc2*n)/np.pi) #Respuesta del filtro ideal\n",
    "hi[n==0] = 1-(wc2-wc1)/np.pi\n",
    "win = 0.54-0.46*np.cos(2*np.pi*np.arange(len(n))/(M-1))  #Función ventana para eliminar el fenómeno de Gibbs\n",
    "h2 = hi*win  # Multiplicación entre Respuesta ideal y la ventana\n",
    "\n",
    "w1,Hh1 = sp.freqz(hi,1,whole=True, worN=2048) # Respuesta en frecuencia del filtro ideal\n",
    "\n",
    "w2,Hh2 = sp.freqz(h2,1, whole=True, worN=2048)  #Respuesta en frecuencia del filtro enventanado"
   ]
  },
  {
   "cell_type": "code",
   "execution_count": null,
   "metadata": {},
   "outputs": [],
   "source": [
    "fig1,axs1 = subplots(2,1)\n",
    "fig1.set_size_inches((12,18))\n",
    "subplots_adjust(hspace=0.4)\n",
    "\n",
    "ax=axs1[0]\n",
    "ax.stem(n+M,hi,basefmt='b-')\n",
    "ax.set_title('Respuesta al impulso en frecuencia del filtro ideal')\n",
    "ax.set_xlabel(\"$N$\",fontsize=24)\n",
    "ax.set_ylabel(\"$h_1$ (Amplitud)\",fontsize=24)\n",
    "\n",
    "\n",
    "ax=axs1[1]\n",
    "ax.stem(n+M,h2,basefmt='b-')\n",
    "ax.set_title('Respuesta en frecuencia de la ventana Hamming')\n",
    "ax.set_xlabel(\"$N$\",fontsize=24)\n",
    "ax.set_ylabel(\"$h_2$\",fontsize=24)"
   ]
  },
  {
   "cell_type": "code",
   "execution_count": null,
   "metadata": {},
   "outputs": [],
   "source": [
    "deltafm= 200 #ancho de banda de transicion\n",
    "plt.figure()\n",
    "\n",
    "plt.plot((w1-np.pi)*Fs/(2*np.pi),np.abs(np.fft.fftshift(Hh1)))\n",
    "plt.axis(xmax=Fs/2,xmin=-Fs/2)\n",
    "plt.vlines(Fc1, 0, 1, color='r', lw=2, linestyle='--',label='$F_{c1}$')\n",
    "plt.vlines(Fc1+deltafm/2, 0, 1, color='g', lw=2, linestyle='--',label='$F_{c1}+fm/2$')\n",
    "plt.vlines(Fc1-deltafm/2, 0, 1, color='g', lw=2, linestyle='--',label='$F_{c1}-fm/2$')\n",
    "plt.vlines(Fc2, 0, 1, color='r', lw=2, linestyle='--',label='$F_{c2}$')\n",
    "plt.vlines(Fc1, 0, 1, color='r', lw=2, linestyle='--',label='$F_{c1}$')\n",
    "plt.vlines(Fc2+deltafm/2, 0, 1, color='g', lw=2, linestyle='--',label='$F_{c2}+fm/2$')\n",
    "plt.vlines(Fc2-deltafm/2, 0, 1, color='g', lw=2, linestyle='--',label='$F_{c2}-fm/2$')\n",
    "plt.hlines(0,Fc1,Fc2,color='g',lw=2.,linestyle='--')\n",
    "plt.title('Respuesta del filtro ideal')\n",
    "plt.xlabel(r\"$f (Hz)$\",fontsize=18)\n",
    "plt.ylabel(r\"$|H(\\omega)| $\",fontsize=18)"
   ]
  },
  {
   "cell_type": "code",
   "execution_count": null,
   "metadata": {},
   "outputs": [],
   "source": [
    "w2,Hh = sp.freqz(h2,1, whole=True, worN=2048) \n",
    "w2=w2[1:]\n",
    "Hh=Hh[1:]\n",
    "\n",
    "fig = plt.figure(figsize=(12,7))\n",
    "plt.title('Frequency response')\n",
    "plt.xlabel('Frequency [rad/sample]')\n",
    "angles = np.unwrap(np.angle(Hh))\n",
    "plt.plot(angles, 'g')\n",
    "plt.ylabel('Angle (radians)', color='g')\n",
    "plt.grid()\n",
    "plt.axis('tight')\n",
    "plt.show()"
   ]
  },
  {
   "cell_type": "markdown",
   "metadata": {},
   "source": [
    "### Se debe diseñar un filtro pasa- altas por el metodo de muestreo en frecuencia con las siguientes caracteristicas:\n",
    "\n",
    "- Banda de paso de 16 kHz\n",
    "- Frecuencia de muestreo de 44 kHz\n",
    "- N = 9"
   ]
  },
  {
   "cell_type": "code",
   "execution_count": null,
   "metadata": {},
   "outputs": [],
   "source": [
    "Fs = 44.1e3\n",
    "N = 9\n",
    "if N % 2 == 0:\n",
    "    kmax = N//2 - 1 # Por ser N par\n",
    "else:\n",
    "    kmax = (N-1)//2 # Por ser N impar\n",
    "alpha = (N-1)/2 # Por formula\n",
    "paso = Fs/N # Tamaño de paso para muestrear"
   ]
  },
  {
   "cell_type": "code",
   "execution_count": null,
   "metadata": {},
   "outputs": [],
   "source": [
    "H_k = []\n",
    "for k in range(kmax+1):\n",
    "    if paso*k >=16e3 and paso*k <= 24e3:\n",
    "        H_k.append(1)\n",
    "    else:\n",
    "        H_k.append(0)\n",
    "H_k"
   ]
  },
  {
   "cell_type": "code",
   "execution_count": null,
   "metadata": {},
   "outputs": [],
   "source": [
    "h_n = []\n",
    "for n in range(N):\n",
    "    suma = 0\n",
    "    for k in np.arange(1, kmax+1):\n",
    "        suma += (1/N)*2*H_k[k]*np.cos(2*pi*k*(n-alpha)/N)\n",
    "    suma += (1/N)*H_k[0]\n",
    "    h_n.append(suma)"
   ]
  },
  {
   "cell_type": "code",
   "execution_count": null,
   "metadata": {},
   "outputs": [],
   "source": [
    "for it, item in enumerate(h_n):\n",
    "    print(f'h[{it}] =', item)"
   ]
  },
  {
   "cell_type": "code",
   "execution_count": null,
   "metadata": {},
   "outputs": [],
   "source": [
    "w, h = sp.freqz(h_n, 1, whole=True, worN=1024)\n",
    "plt.figure()\n",
    "plt.title('Filtro pasa-altas', fontsize=24)\n",
    "plt.plot(w-pi, np.abs(np.fft.fftshift(h)), label='Filtro pasa-altas')\n",
    "plt.vlines(2*pi*16e3/Fs, 0, 1.1, color='r', lw=2, linestyle='--', label='$F_c$')\n",
    "plt.xlabel('Frecuencia (Hz)', fontsize=18)\n",
    "plt.ylabel('Amplitud', fontsize=18)\n",
    "plt.xlim([0, pi])\n",
    "plt.legend(loc='best')\n",
    "plt.show()"
   ]
  },
  {
   "cell_type": "markdown",
   "metadata": {},
   "source": [
    "##  Filtro analógico Pasa-Banda y conviertalo a un filtro digital,  Filtro Butterworth Analógico De Orden 1 por apróximación en derivadas"
   ]
  },
  {
   "cell_type": "code",
   "execution_count": null,
   "metadata": {},
   "outputs": [],
   "source": [
    "fc1 = 3e3   #Frecuencia de corte 1\n",
    "fc2 = 5e3  #Frecuencia de corte 2\n",
    "fs = 10*fc2 #Frecuencia de muestreo"
   ]
  },
  {
   "cell_type": "code",
   "execution_count": null,
   "metadata": {},
   "outputs": [],
   "source": [
    "def zeropoles(num, den=1):\n",
    "    w,h = sp.freqz(num,den)\n",
    "    sys1 = sp.lti(num,den)\n",
    "    ang = np.arange(0.0,2*np.pi, 0.01)\n",
    "    xp = np.cos(ang)\n",
    "    yp= np.sin(ang)\n",
    "    plt.figure(figsize=(7,7))\n",
    "    plt.plot(xp,yp, '--')\n",
    "    plt.plot(sys1.zeros.real, sys1.zeros.imag, 'o')\n",
    "    plt.plot(sys1.poles.real, sys1.poles.imag, 'x')\n",
    "    plt.grid()\n",
    "    plt.show()"
   ]
  },
  {
   "cell_type": "code",
   "execution_count": null,
   "metadata": {},
   "outputs": [],
   "source": [
    "b,a = sp.butter(1,[fc1, fc2], 'bandpass', analog=True, output='ba', fs=None) #Filtro Pasa-Banda analógico\n",
    "w,h = sp.freqs(b,a) #Vector de frecuencias\n",
    "print('num='+str(b))\n",
    "print('den='+str(a))\n",
    "\n",
    "# Graficar\n",
    "plt.figure(figsize=(15,7))\n",
    "plt.semilogx(w, 20*np.log10(abs(h)), label='Filter')  #Gráfica usando escala logarítmica\n",
    "plt.axvline(fc1, color='g', label='$f_{c1}$')\n",
    "plt.axvline(fc2, color='g', label='$f_{c2}$')\n",
    "plt.title('Butterworth filter Frequency Response', fontsize='18') \n",
    "plt.xlabel('Frequency [radians / second]',fontsize=18)\n",
    "plt.ylabel('Amplitude [dB]',fontsize=18)\n",
    "plt.margins(0, 0.01) #Márgenes de la gráfica\n",
    "plt.grid(which='both', axis='both')\n",
    "plt.legend()\n",
    "plt.show() #Mostrar la gráfica"
   ]
  },
  {
   "cell_type": "code",
   "execution_count": null,
   "metadata": {},
   "outputs": [],
   "source": [
    "import sympy as spy\n",
    "from sympy import symbols, factor\n",
    "\n",
    "# Crea símbolos\n",
    "t, z = symbols('T, Z')\n",
    "\n",
    "# Define una función transferencia\n",
    "s = (1 - z**(-1)) / t\n",
    "\n",
    "# Define la transferencia funcion Hz\n",
    "Hz = (2000 * s) / (s**2 + 2e3 * s + 1.5e7)\n",
    "\n",
    "# Simplifica y expande la transferencia funcion\n",
    "simplified_Hz = spy.simplify(Hz)\n",
    "\n",
    "# Agrupa términos semejantes de Z^2, Z y Z^0\n",
    "simplified_Hz_grouped = spy.collect(simplified_Hz, z, evaluate=False)\n",
    "\n",
    "# Imprime la función de transferencia simplificada y agrupada\n",
    "print('H(Z) = ')\n",
    "spy.pprint(simplified_Hz_grouped)"
   ]
  },
  {
   "cell_type": "code",
   "execution_count": null,
   "metadata": {},
   "outputs": [],
   "source": [
    "T = 0.0001\n",
    "b11 =[2000*T, -2000*T,0]  #Numerador \n",
    "a11 = [15000000*(T**2)+2000*T+1, -2000*T-2,1] #Denominador\n",
    "wb, Hb11 = sp.freqz(b11, a11);  #Vector de frecuencias y respuesta del filtro\n",
    "\n",
    "#Gráfica\n",
    "plt.figure(figsize=(15,6))\n",
    "plt.title('Filto Pasa-Banda', fontsize=18)\n",
    "plt.plot((wb*fs)/(2*np.pi), np.abs(Hb11), label='Filtro')\n",
    "plt.axvline(fc1, color='g', label='$f_{c1}$') #Frecuencia de corte 1\n",
    "plt.axvline(fc2, color='g', label='$f_{c2}$') #Frecuencia de corte 2\n",
    "plt.xlabel('$f(Hz)$', fontsize=18)\n",
    "plt.ylabel('$|H(\\omega)|$', fontsize=18)\n",
    "plt.legend()\n",
    "plt.grid()\n",
    "plt.show()\n",
    "\n",
    "#Diagrama de polos y ceros\n",
    "zeropoles(b11, a11)"
   ]
  },
  {
   "cell_type": "markdown",
   "metadata": {},
   "source": [
    "## Cargue 3 audios cortos y úselos como entrada de cada uno de los filtros. Realice un análisis espectral para cada caso."
   ]
  },
  {
   "cell_type": "markdown",
   "metadata": {},
   "source": [
    "Rediseño el filtro su frecuencia de muestreo para que este con la del audio 44100 HZ"
   ]
  },
  {
   "cell_type": "code",
   "execution_count": null,
   "metadata": {},
   "outputs": [],
   "source": [
    "Fs3 = 44100\n",
    "Fc1 = 2000\n",
    "Fc2 = 4000\n",
    "fm3 = 200\n",
    "\n",
    "wc1 = (2*np.pi*Fc1)/Fs3       #Frecuencia de corte 1 normalizada en radianes\n",
    "wc2 = (2*np.pi*Fc2)/Fs3       #Frecuencia de corte 2 normalizada en radianes\n",
    "print(\"Frecuencia de corte 1 normalizada en radianes: \", wc1)\n",
    "print(\"\\nFrecuencia de corte 2 normalizada en radianes: \", wc2)"
   ]
  },
  {
   "cell_type": "code",
   "execution_count": null,
   "metadata": {},
   "outputs": [],
   "source": [
    "#Ancho de banda de Trancisión requerida en radianes\n",
    "deltafm3= 200 #ancho de banda de transicion\n",
    "\n",
    "deltafmr3= (2*np.pi*deltafm3)/Fs3\n",
    "print('\\u0394fm:',deltafmr3, ' radianes')"
   ]
  },
  {
   "cell_type": "code",
   "execution_count": null,
   "metadata": {},
   "outputs": [],
   "source": [
    "#Riple en decibelios\n",
    "ripple = 0.003\n",
    "ripple_dB= 20*np.log10(ripple)\n",
    "ripple_dB\n",
    "print(\"Ripple en decibelios: \", ripple_dB)"
   ]
  },
  {
   "cell_type": "code",
   "execution_count": null,
   "metadata": {},
   "outputs": [],
   "source": [
    "M = getM( ripple_dB, Fs3, fm3)\n",
    "print('Orden del filtro:', M)"
   ]
  },
  {
   "cell_type": "code",
   "execution_count": null,
   "metadata": {},
   "outputs": [],
   "source": [
    "wc1 = 2*pi*Fc1/Fs3                                     # frecuencia de corte normalizada en radianes\n",
    "wc2 = 2*pi*Fc2/Fs3                                     # frecuencia de corte normalizada en radianes\n",
    "n = np.arange(-M//2+1, M//2+1)                        # Vector de muestras\n",
    "\n",
    "hi = (wc1/pi) * np.sinc(wc1*n/pi) - (wc2/pi) * np.sinc(wc2*n/pi) # Respuesta del filtro ideal Rechaza-bandas\n",
    "hi[M//2] = 1-(wc2-wc1)/pi\n",
    "win = 0.54-0.46*np.cos(2*pi*np.arange(len(n))/(M-1))  # Ventana de Hamming\n",
    "h_n3 = hi*win                                          # Multiplico la respuesta ideal por la ventana\n",
    "\n",
    "w1,Hh1 = sp.freqz(hi,1,whole=True, worN=M) # Respuesta en frecuencia del filtro ideal\n",
    "\n",
    "w, h = sp.freqz(h_n3, 1, whole=True, worN=2048)        # Respuesta en frecuencia del filtro enventanado"
   ]
  },
  {
   "cell_type": "code",
   "execution_count": null,
   "metadata": {},
   "outputs": [],
   "source": [
    "print(\"hi(0) = \",np.round(hi[M//2],6))"
   ]
  },
  {
   "cell_type": "code",
   "execution_count": null,
   "metadata": {},
   "outputs": [],
   "source": [
    "hi_prime = {}  # Create an empty dictionary to store the transformed hi' values\n",
    "for i in range(-M//2, M//2+1):\n",
    "    hi_prime[i + M//2] = hi[i + M//2]  # Assign the corresponding hi value to hi' with adjusted index\n",
    "\n",
    "# Print the hi' values\n",
    "for i in range(M):\n",
    "    original_index = i - M//2  # Calculate the original index\n",
    "    print(\"hi'({}) = hi({}) =\".format(i, original_index), np.round(hi_prime[i],6))"
   ]
  },
  {
   "cell_type": "code",
   "execution_count": null,
   "metadata": {},
   "outputs": [],
   "source": [
    "win0 = 0.54-0.46*np.cos(2*pi*0/(M-1))  # Ventana de Hamming\n",
    "print(\"win(0) = \",np.round(win0,6))\n",
    "\n",
    "h_n_0 = hi_prime[0]*win0\n",
    "print(\"h_n(0) = \", np.round(h_n_0,6)) "
   ]
  },
  {
   "cell_type": "code",
   "execution_count": null,
   "metadata": {},
   "outputs": [],
   "source": [
    "print('\\nLos primeros 5 coeficientes')   \n",
    "for i in np.arange(0,4):\n",
    "    \n",
    "    print(\"hi'({}) =\".format(int(i)), np.round(hi_prime[i],6))\n",
    "    \n",
    "    win= 0.54-0.46*np.cos(2*pi*i/(M-1))  #Recordar reemplazar la M\n",
    "    print(\"win ({})=\".format(int(i)), np.round(win,6))\n",
    "\n",
    "    h_n= hi_prime[i]*win\n",
    "    print(\"h_n ({}) = \".format(int(i)), np.round(h_n,6),'\\n')  \n",
    "\n",
    "print('\\nLos 5 coeficientes centrales')\n",
    "for i in np.arange(M//2-2, M//2+3):\n",
    "    \n",
    "    print(\"hi'({}) =\".format(int(i)), np.round(hi_prime[i],6))\n",
    "    \n",
    "    win= 0.54-0.46*np.cos(2*pi*i/(M-1))  #Recordar reemplazar la M\n",
    "    print(\"win ({})=\".format(int(i)), np.round(win,6))\n",
    "\n",
    "    h_n= hi_prime[i]*win\n",
    "    print(\"h_n ({}) = \".format(int(i)), np.round(h_n,6),'\\n')\n",
    "\n",
    "print('\\nLos 5 finales') \n",
    "for i in np.arange(M-5, M):\n",
    "    \n",
    "    print(\"hi'({}) =\".format(int(i)), np.round(hi_prime[i],6))\n",
    "    \n",
    "    win= 0.54-0.46*np.cos(2*pi*i/(M-1))  #Recordar reemplazar la M\n",
    "    print(\"win ({})=\".format(int(i)), np.round(win,6))\n",
    "\n",
    "    h_n= hi_prime[i]*win\n",
    "    print(\"h_n ({}) = \".format(int(i)), np.round(h_n,6),'\\n')"
   ]
  },
  {
   "cell_type": "code",
   "execution_count": null,
   "metadata": {},
   "outputs": [],
   "source": [
    "plt.figure()\n",
    "\n",
    "plt.plot((w1-np.pi)*Fs3/(2*np.pi),np.abs(np.fft.fftshift(Hh1)))\n",
    "plt.axis(xmax=Fs3/2,xmin=-Fs3/2)\n",
    "plt.vlines(Fc1, 0, 1, color='r', lw=2, linestyle='--',label='$F_{c1}$')\n",
    "plt.vlines(Fc1+deltafm/2, 0, 1, color='g', lw=2, linestyle='--',label='$F_{c1}+fm/2$')\n",
    "plt.vlines(Fc1-deltafm/2, 0, 1, color='g', lw=2, linestyle='--',label='$F_{c1}-fm/2$')\n",
    "plt.vlines(Fc2, 0, 1, color='r', lw=2, linestyle='--',label='$F_{c2}$')\n",
    "plt.vlines(Fc1, 0, 1, color='r', lw=2, linestyle='--',label='$F_{c1}$')\n",
    "plt.vlines(Fc2+deltafm/2, 0, 1, color='g', lw=2, linestyle='--',label='$F_{c2}+fm/2$')\n",
    "plt.vlines(Fc2-deltafm/2, 0, 1, color='g', lw=2, linestyle='--',label='$F_{c2}-fm/2$')\n",
    "plt.hlines(0,Fc1,Fc2,color='g',lw=2.,linestyle='--')\n",
    "plt.xlim([-7000,7000])\n",
    "plt.title('Respuesta del filtro ideal')\n",
    "plt.xlabel(r\"$f (Hz)$\",fontsize=18)\n",
    "plt.ylabel(r\"$|H(\\omega)| $\",fontsize=18)\n",
    "plt.legend(loc='lower right')\n",
    "plt.grid()\n",
    "plt.show()"
   ]
  },
  {
   "cell_type": "code",
   "execution_count": null,
   "metadata": {},
   "outputs": [],
   "source": [
    "# Grafica\n",
    "plt.figure()\n",
    "plt.title('Respuesta en frecuencia del rechaza-banda', fontsize=18)\n",
    "plt.plot((w-pi)*Fs/(2*pi),np.abs(np.fft.fftshift(h)), label='$Filtro$')\n",
    "plt.vlines(Fc1, 0, 1, color='r', lw=2, linestyle='--', label='$F_{c1}$')\n",
    "plt.vlines(Fc2, 0, 1, color='r', lw=2, linestyle='--', label='$F_{c2}$')\n",
    "plt.vlines(Fc1+fm/2, 0, 1, color='g', lw=2, linestyle='--', label='$F_{c1}+f_m/2$')\n",
    "plt.vlines(Fc1-fm/2, 0, 1, color='g', lw=2, linestyle='--', label='$F_{c1}-f_m/2$')\n",
    "plt.vlines(Fc2+fm/2, 0, 1, color='g', lw=2, linestyle='--', label='$F_{c2}+f_m/2$')\n",
    "plt.vlines(Fc2-fm/2, 0, 1, color='g', lw=2, linestyle='--', label='$F_{c2}-f_m/2$')\n",
    "plt.xlabel('Frecuencia (Hz)', fontsize=18)\n",
    "plt.ylabel('Amplitud', fontsize=18)\n",
    "plt.xlim([0, 6000])\n",
    "plt.legend(loc='lower right')\n",
    "plt.grid()\n",
    "plt.show()"
   ]
  },
  {
   "cell_type": "markdown",
   "metadata": {},
   "source": [
    "### El pasa - altas queda como se diseñó "
   ]
  },
  {
   "cell_type": "markdown",
   "metadata": {},
   "source": [
    "##  El filtro digital Pasa-Banda a partir de un filtro analógico queda igual"
   ]
  },
  {
   "cell_type": "code",
   "execution_count": null,
   "metadata": {},
   "outputs": [],
   "source": [
    "file_audio1 ='violin.wav'\n",
    "fs1, x1 =read(file_audio1)\n",
    "x1=x1/float(max(abs(x1))) # escala la amplitud de la senal\n",
    "t1=np.arange(0, float(len(x1))/fs1, 1.0/fs1) # Vector de tiempo\n",
    "plt.figure(figsize=(14,6))\n",
    "plt.plot(t1,x1, color='darkorange') # Dibujar la grafica\n",
    "# Los siguientes dos comandos dibujan las etiquetas de los ejes\n",
    "plt.xlabel('Time (s)',fontsize=18) # Etiqueta eje X\n",
    "plt.ylabel('Amplitude',fontsize=18) # Etiqueta eje Y\n",
    "plt.title('Señal de audio 1',fontsize=18)\n",
    "\n",
    "plt.show() # Mostrar la grafica\n",
    "Audio(x1, rate=fs1) # para escuchar la senal, si se desea"
   ]
  },
  {
   "cell_type": "code",
   "execution_count": null,
   "metadata": {},
   "outputs": [],
   "source": [
    "orig1 = np.fft.fft(x1)                            #FFT de la señal filtrada para mostrarla más comodamente\n",
    "freq_orig1  = np.fft.fftfreq(orig1.size)*fs1       #Vector de Frecuencias\n",
    "\n",
    "y1 = np.convolve(h_n3, x1, mode='same')      #Filtra la señal requerida\n",
    "Y1 = np.fft.fft(y1)                          #FFT de la señal filtrada para mostrarla más comodamente\n",
    "freq_Y1 = np.fft.fftfreq(Y1.size)*fs1        #Vector de Frecuencias"
   ]
  },
  {
   "cell_type": "code",
   "execution_count": null,
   "metadata": {},
   "outputs": [],
   "source": [
    "fig, axs = plt.subplots(3, 1, figsize=(15, 18))\n",
    "\n",
    "#Gráfica\n",
    "axs[0].plot(freq_orig1, abs(orig1 )**2, label='$Espectro$')\n",
    "axs[0].vlines(Fc1, 0, 1.03e6, color='r', lw=2, linestyle='--', label='$F_{c1}$')\n",
    "axs[0].vlines(Fc1+deltafm/2, 0, 1.03e6, color='g', lw=2, linestyle='--', label='$F_{c1}+f_m/2$')\n",
    "axs[0].vlines(Fc1-deltafm/2, 0, 1.03e6, color='g', lw=2, linestyle='--', label='$F_{c1}-f_m/2$')\n",
    "axs[0].vlines(Fc2, 0, 1.03e6, color='r', lw=2, linestyle='--', label='$F_{c2}$')\n",
    "axs[0].vlines(Fc2+deltafm/2, 0, 1.03e6, color='g', lw=2, linestyle='--', label='$F_{c2}+f_m/2$')\n",
    "axs[0].vlines(Fc2-deltafm/2, 0, 1.03e6, color='g', lw=2, linestyle='--', label='$F_{c2}-f_m/2$')\n",
    "axs[0].set_xlim([-6500,6500])\n",
    "axs[0].set_xlabel(\"$Frecuencia [Hz]$\", fontsize=18)\n",
    "axs[0].set_ylabel(\"$|C_{k}|^2$\", fontsize=18)\n",
    "axs[0].set_title('Espectro de la señal original', fontsize=18)\n",
    "axs[0].legend(loc='upper right')\n",
    "axs[0].grid()\n",
    "\n",
    "axs[1].plot(freq_Y1, abs(Y1)**2, label='$Espectro$')\n",
    "axs[1].vlines(Fc1, 0, 32000, color='r', lw=2, linestyle='--', label='$F_{c1}$')\n",
    "axs[1].vlines(Fc1+deltafm/2, 0, 32000, color='g', lw=2, linestyle='--', label='$F_{c1}+f_m/2$')\n",
    "axs[1].vlines(Fc1-deltafm/2, 0, 32000, color='g', lw=2, linestyle='--', label='$F_{c1}-f_m/2$')\n",
    "axs[1].vlines(Fc2, 0, 32000, color='r', lw=2, linestyle='--', label='$F_{c2}$')\n",
    "axs[1].vlines(Fc2+deltafm/2, 0, 32000, color='g', lw=2, linestyle='--', label='$F_{c2}+f_m/2$')\n",
    "axs[1].vlines(Fc2-deltafm/2, 0, 32000, color='g', lw=2, linestyle='--', label='$F_{c2}-f_m/2$')\n",
    "axs[1].set_xlim([1500,4500])\n",
    "axs[1].set_ylim([-1000,33000])\n",
    "axs[1].set_xlabel(\"$Frecuencia [Hz]$\", fontsize=18)\n",
    "axs[1].set_ylabel(\"$|C_{k}|^2$\", fontsize=18)\n",
    "axs[1].set_title('Espectro de la señal filtrada', fontsize=18)\n",
    "axs[1].legend(loc='upper right')\n",
    "axs[1].grid()\n",
    "\n",
    "\n",
    "#Gráfica\n",
    "axs[2].plot(freq_Y1, abs(Y1)**2, label='$Espectro$')\n",
    "axs[2].vlines(Fc1, 0, 1.03e6, color='r', lw=2, linestyle='--', label='$F_{c1}$')\n",
    "axs[2].vlines(Fc1+deltafm/2, 0, 1.03e6, color='g', lw=2, linestyle='--', label='$F_{c1}+f_m/2$')\n",
    "axs[2].vlines(Fc1-deltafm/2, 0, 1.03e6, color='g', lw=2, linestyle='--', label='$F_{c1}-f_m/2$')\n",
    "axs[2].vlines(Fc2, 0, 1.03e6, color='r', lw=2, linestyle='--', label='$F_{c2}$')\n",
    "axs[2].vlines(Fc2+deltafm/2, 0, 1.03e6, color='g', lw=2, linestyle='--', label='$F_{c2}+f_m/2$')\n",
    "axs[2].vlines(Fc2-deltafm/2, 0, 1.03e6, color='g', lw=2, linestyle='--', label='$F_{c2}-f_m/2$')\n",
    "axs[2].set_xlim([-6500,6500])\n",
    "axs[2].set_xlabel(\"$Frecuencia [Hz]$\", fontsize=18)\n",
    "axs[2].set_ylabel(\"$|C_{k}|^2$\", fontsize=18)\n",
    "axs[2].set_title('Espectro de la señal filtrada, vista completa', fontsize=18)\n",
    "axs[2].legend(loc='upper right')\n",
    "axs[2].grid()\n",
    "plt.tight_layout()\n",
    "plt.show()"
   ]
  },
  {
   "cell_type": "code",
   "execution_count": null,
   "metadata": {},
   "outputs": [],
   "source": [
    "y1 =y1/float(max(abs(y1))) # escala la amplitud de la senal\n",
    "t1=np.arange(0, float(len(y1 ))/fs1, 1.0/fs1) # Vector de tiempo\n",
    "plt.figure(figsize=(14,6))\n",
    "plt.plot(t1,x1, color='darkorange', label='Original') # Dibujar la grafica\n",
    "plt.plot(t1,y1 , color='darkgreen',label='Filtrada') # Dibujar la grafica\n",
    "# Los siguientes dos comandos dibujan las etiquetas de los ejes\n",
    "plt.xlabel('Time (s)',fontsize=18) # Etiqueta eje X\n",
    "plt.ylabel('Amplitude',fontsize=18) # Etiqueta eje Y\n",
    "plt.title('Señales de Audio (Original y Filtrada)',fontsize=18)\n",
    "plt.legend(loc='best')\n",
    "\n",
    "plt.show() # Mostrar la grafica\n",
    "Audio(y1 , rate=fs1) #"
   ]
  },
  {
   "cell_type": "code",
   "execution_count": null,
   "metadata": {},
   "outputs": [],
   "source": [
    "file_audio2 ='0-9_Male_Vocalized.wav'\n",
    "fs2, x2 =read(file_audio2)\n",
    "x2=x2/float(max(abs(x2))) # escala la amplitud de la senal\n",
    "t2=np.arange(0, float(len(x2))/fs2, 1.0/fs2) # Vector de tiempo\n",
    "plt.figure(figsize=(14,6))\n",
    "plt.plot(t2,x2, color='y') # Dibujar la grafica\n",
    "# Los siguientes dos comandos dibujan las etiquetas de los ejes\n",
    "plt.xlabel('Time (s)',fontsize=18) # Etiqueta eje X\n",
    "plt.ylabel('Amplitude',fontsize=18) # Etiqueta eje Y\n",
    "plt.title('Señal de audio 2',fontsize=18)\n",
    "\n",
    "plt.show() # Mostrar la grafica\n",
    "Audio(x2, rate=fs2) # para escuchar la senal, si se desea"
   ]
  },
  {
   "cell_type": "code",
   "execution_count": null,
   "metadata": {},
   "outputs": [],
   "source": [
    "orig2 = np.fft.fft(x2)                            #FFT de la señal filtrada para mostrarla más comodamente\n",
    "freq_orig2  = np.fft.fftfreq(orig2.size)*fs2       #Vector de Frecuencias\n",
    "\n",
    "y2 = np.convolve(h_n3, x2, mode='same')      #Filtra la señal requerida\n",
    "Y2 = np.fft.fft(y2)                          #FFT de la señal filtrada para mostrarla más comodamente\n",
    "freq_Y2 = np.fft.fftfreq(Y2.size)*fs2        #Vector de Frecuencias"
   ]
  },
  {
   "cell_type": "code",
   "execution_count": null,
   "metadata": {},
   "outputs": [],
   "source": [
    "fig, axs = plt.subplots(3, 1, figsize=(15, 18))\n",
    "\n",
    "#Gráfica\n",
    "axs[0].plot(freq_orig2, abs(orig2)**2, label='$Espectro$')\n",
    "axs[0].vlines(Fc1, 0, 1.03e6, color='r', lw=2, linestyle='--', label='$F_{c1}$')\n",
    "axs[0].vlines(Fc1+deltafm/2, 0, 1.03e6, color='g', lw=2, linestyle='--', label='$F_{c1}+f_m/2$')\n",
    "axs[0].vlines(Fc1-deltafm/2, 0, 1.03e6, color='g', lw=2, linestyle='--', label='$F_{c1}-f_m/2$')\n",
    "axs[0].vlines(Fc2, 0, 1.03e6, color='r', lw=2, linestyle='--', label='$F_{c2}$')\n",
    "axs[0].vlines(Fc2+deltafm/2, 0, 1.03e6, color='g', lw=2, linestyle='--', label='$F_{c2}+f_m/2$')\n",
    "axs[0].vlines(Fc2-deltafm/2, 0, 1.03e6, color='g', lw=2, linestyle='--', label='$F_{c2}-f_m/2$')\n",
    "axs[0].set_xlim([-6500,6500])\n",
    "axs[0].set_xlabel(\"$Frecuencia [Hz]$\", fontsize=18)\n",
    "axs[0].set_ylabel(\"$|C_{k}|^2$\", fontsize=18)\n",
    "axs[0].set_title('Espectro de la señal original', fontsize=18)\n",
    "axs[0].legend(loc='upper right')\n",
    "axs[0].grid()\n",
    "\n",
    "axs[1].plot(freq_Y2, abs(Y2)**2, label='$Espectro$')\n",
    "axs[1].vlines(Fc1, 0, 32000, color='r', lw=2, linestyle='--', label='$F_{c1}$')\n",
    "axs[1].vlines(Fc1+deltafm/2, 0, 32000, color='g', lw=2, linestyle='--', label='$F_{c1}+f_m/2$')\n",
    "axs[1].vlines(Fc1-deltafm/2, 0, 32000, color='g', lw=2, linestyle='--', label='$F_{c1}-f_m/2$')\n",
    "axs[1].vlines(Fc2, 0, 32000, color='r', lw=2, linestyle='--', label='$F_{c2}$')\n",
    "axs[1].vlines(Fc2+deltafm/2, 0, 32000, color='g', lw=2, linestyle='--', label='$F_{c2}+f_m/2$')\n",
    "axs[1].vlines(Fc2-deltafm/2, 0, 32000, color='g', lw=2, linestyle='--', label='$F_{c2}-f_m/2$')\n",
    "axs[1].set_xlim([1500,4500])\n",
    "axs[1].set_ylim([-1000,33000])\n",
    "axs[1].set_xlabel(\"$Frecuencia [Hz]$\", fontsize=18)\n",
    "axs[1].set_ylabel(\"$|C_{k}|^2$\", fontsize=18)\n",
    "axs[1].set_title('Espectro de la señal filtrada', fontsize=18)\n",
    "axs[1].legend(loc='upper right')\n",
    "axs[1].grid()\n",
    "\n",
    "\n",
    "#Gráfica\n",
    "axs[2].plot(freq_Y2, abs(Y2)**2, label='$Espectro$')\n",
    "axs[2].vlines(Fc1, 0, 1.03e6, color='r', lw=2, linestyle='--', label='$F_{c1}$')\n",
    "axs[2].vlines(Fc1+deltafm/2, 0, 1.03e6, color='g', lw=2, linestyle='--', label='$F_{c1}+f_m/2$')\n",
    "axs[2].vlines(Fc1-deltafm/2, 0, 1.03e6, color='g', lw=2, linestyle='--', label='$F_{c1}-f_m/2$')\n",
    "axs[2].vlines(Fc2, 0, 1.03e6, color='r', lw=2, linestyle='--', label='$F_{c2}$')\n",
    "axs[2].vlines(Fc2+deltafm/2, 0, 1.03e6, color='g', lw=2, linestyle='--', label='$F_{c2}+f_m/2$')\n",
    "axs[2].vlines(Fc2-deltafm/2, 0, 1.03e6, color='g', lw=2, linestyle='--', label='$F_{c2}-f_m/2$')\n",
    "axs[2].set_xlim([-6500,6500])\n",
    "axs[2].set_xlabel(\"$Frecuencia [Hz]$\", fontsize=18)\n",
    "axs[2].set_ylabel(\"$|C_{k}|^2$\", fontsize=18)\n",
    "axs[2].set_title('Espectro de la señal filtrada, vista completa', fontsize=18)\n",
    "axs[2].legend(loc='upper right')\n",
    "axs[2].grid()\n",
    "plt.tight_layout()\n",
    "plt.show()"
   ]
  },
  {
   "cell_type": "code",
   "execution_count": null,
   "metadata": {},
   "outputs": [],
   "source": [
    "y2 =y2/float(max(abs(y2))) # escala la amplitud de la senal\n",
    "t2=np.arange(0, float(len(y2))/fs2, 1.0/fs2) # Vector de tiempo\n",
    "plt.figure(figsize=(14,6))\n",
    "plt.plot(t2,x2, color='darkorange', label='Original') # Dibujar la grafica\n",
    "plt.plot(t2,y2 , color='darkgreen',label='Filtrada') # Dibujar la grafica\n",
    "# Los siguientes dos comandos dibujan las etiquetas de los ejes\n",
    "plt.xlabel('Time (s)',fontsize=18) # Etiqueta eje X\n",
    "plt.ylabel('Amplitude',fontsize=18) # Etiqueta eje Y\n",
    "plt.title('Señales de Audio (Original y Filtrada)',fontsize=18)\n",
    "plt.legend(loc='best')\n",
    "\n",
    "plt.show() # Mostrar la grafica\n",
    "Audio(y2 , rate=fs2) #"
   ]
  },
  {
   "cell_type": "code",
   "execution_count": null,
   "metadata": {},
   "outputs": [],
   "source": [
    "file_audio3 ='Sounds_of_War.wav'\n",
    "fs3, x3 =read(file_audio3)\n",
    "x3=x3/float(max(abs(x3))) # escala la amplitud de la senal\n",
    "t3=np.arange(0, float(len(x3))/fs3, 1.0/fs3) # Vector de tiempo\n",
    "plt.figure(figsize=(14,6))\n",
    "plt.plot(t3,x3, color='brown') # Dibujar la grafica\n",
    "# Los siguientes dos comandos dibujan las etiquetas de los ejes\n",
    "plt.xlabel('Time (s)',fontsize=18) # Etiqueta eje X\n",
    "plt.ylabel('Amplitude',fontsize=18) # Etiqueta eje Y\n",
    "plt.title('Señal de audio 3 (Normalizada)',fontsize=18)\n",
    "\n",
    "plt.show() # Mostrar la grafica\n",
    "Audio(x3, rate=fs3) # para escuchar la senal, si se desea"
   ]
  },
  {
   "cell_type": "code",
   "execution_count": null,
   "metadata": {},
   "outputs": [],
   "source": [
    "orig3 = np.fft.fft(x3)                            #FFT de la señal filtrada para mostrarla más comodamente\n",
    "freq_orig3  = np.fft.fftfreq(orig3.size)*fs3       #Vector de Frecuencias\n",
    "\n",
    "y3 = np.convolve(h_n3, x3, mode='same')      #Filtra la señal requerida\n",
    "Y3 = np.fft.fft(y3)                          #FFT de la señal filtrada para mostrarla más comodamente\n",
    "freq_Y3 = np.fft.fftfreq(Y3.size)*fs3        #Vector de Frecuencias"
   ]
  },
  {
   "cell_type": "code",
   "execution_count": null,
   "metadata": {},
   "outputs": [],
   "source": [
    "fig, axs = plt.subplots(3, 1, figsize=(15, 18))\n",
    "\n",
    "#Gráfica\n",
    "axs[0].plot(freq_orig3, abs(orig3 )**2, label='$Espectro$')\n",
    "axs[0].vlines(Fc1, 0, 1.03e6, color='r', lw=2, linestyle='--', label='$F_{c1}$')\n",
    "axs[0].vlines(Fc1+deltafm/2, 0, 1.03e6, color='g', lw=2, linestyle='--', label='$F_{c1}+f_m/2$')\n",
    "axs[0].vlines(Fc1-deltafm/2, 0, 1.03e6, color='g', lw=2, linestyle='--', label='$F_{c1}-f_m/2$')\n",
    "axs[0].vlines(Fc2, 0, 1.03e6, color='r', lw=2, linestyle='--', label='$F_{c2}$')\n",
    "axs[0].vlines(Fc2+deltafm/2, 0, 1.03e6, color='g', lw=2, linestyle='--', label='$F_{c2}+f_m/2$')\n",
    "axs[0].vlines(Fc2-deltafm/2, 0, 1.03e6, color='g', lw=2, linestyle='--', label='$F_{c2}-f_m/2$')\n",
    "axs[0].set_xlim([-6500,6500])\n",
    "axs[0].set_xlabel(\"$Frecuencia [Hz]$\", fontsize=18)\n",
    "axs[0].set_ylabel(\"$|C_{k}|^2$\", fontsize=18)\n",
    "axs[0].set_title('Espectro de la señal original', fontsize=18)\n",
    "axs[0].legend(loc='upper right')\n",
    "axs[0].grid()\n",
    "\n",
    "axs[1].plot(freq_Y3, abs(Y3)**2, label='$Espectro$')\n",
    "axs[1].vlines(Fc1, 0, 32000, color='r', lw=2, linestyle='--', label='$F_{c1}$')\n",
    "axs[1].vlines(Fc1+deltafm/2, 0, 32000, color='g', lw=2, linestyle='--', label='$F_{c1}+f_m/2$')\n",
    "axs[1].vlines(Fc1-deltafm/2, 0, 32000, color='g', lw=2, linestyle='--', label='$F_{c1}-f_m/2$')\n",
    "axs[1].vlines(Fc2, 0, 32000, color='r', lw=2, linestyle='--', label='$F_{c2}$')\n",
    "axs[1].vlines(Fc2+deltafm/2, 0, 32000, color='g', lw=2, linestyle='--', label='$F_{c2}+f_m/2$')\n",
    "axs[1].vlines(Fc2-deltafm/2, 0, 32000, color='g', lw=2, linestyle='--', label='$F_{c2}-f_m/2$')\n",
    "axs[1].set_xlim([1500,4500])\n",
    "axs[1].set_ylim([-1000,33000])\n",
    "axs[1].set_xlabel(\"$Frecuencia [Hz]$\", fontsize=18)\n",
    "axs[1].set_ylabel(\"$|C_{k}|^2$\", fontsize=18)\n",
    "axs[1].set_title('Espectro de la señal filtrada', fontsize=18)\n",
    "axs[1].legend(loc='upper right')\n",
    "axs[1].grid()\n",
    "\n",
    "\n",
    "#Gráfica\n",
    "axs[2].plot(freq_Y3, abs(Y3)**2, label='$Espectro$')\n",
    "axs[2].vlines(Fc1, 0, 1.03e6, color='r', lw=2, linestyle='--', label='$F_{c1}$')\n",
    "axs[2].vlines(Fc1+deltafm/2, 0, 1.03e6, color='g', lw=2, linestyle='--', label='$F_{c1}+f_m/2$')\n",
    "axs[2].vlines(Fc1-deltafm/2, 0, 1.03e6, color='g', lw=2, linestyle='--', label='$F_{c1}-f_m/2$')\n",
    "axs[2].vlines(Fc2, 0, 1.03e6, color='r', lw=2, linestyle='--', label='$F_{c2}$')\n",
    "axs[2].vlines(Fc2+deltafm/2, 0, 1.03e6, color='g', lw=2, linestyle='--', label='$F_{c2}+f_m/2$')\n",
    "axs[2].vlines(Fc2-deltafm/2, 0, 1.03e6, color='g', lw=2, linestyle='--', label='$F_{c2}-f_m/2$')\n",
    "axs[2].set_xlim([-6500,6500])\n",
    "axs[2].set_xlabel(\"$Frecuencia [Hz]$\", fontsize=18)\n",
    "axs[2].set_ylabel(\"$|C_{k}|^2$\", fontsize=18)\n",
    "axs[2].set_title('Espectro de la señal filtrada, vista completa', fontsize=18)\n",
    "axs[2].legend(loc='upper right')\n",
    "axs[2].grid()\n",
    "plt.tight_layout()\n",
    "plt.show()"
   ]
  },
  {
   "cell_type": "code",
   "execution_count": null,
   "metadata": {},
   "outputs": [],
   "source": [
    "y3 =y3/float(max(abs(y3))) # escala la amplitud de la senal\n",
    "t3=np.arange(0, float(len(y3))/fs3, 1.0/fs3) # Vector de tiempo\n",
    "plt.figure(figsize=(14,6))\n",
    "plt.plot(t3,x3, color='darkorange', label='Original') # Dibujar la grafica\n",
    "plt.plot(t3,y3 , color='darkgreen',label='Filtrada') # Dibujar la grafica\n",
    "# Los siguientes dos comandos dibujan las etiquetas de los ejes\n",
    "plt.xlabel('Time (s)',fontsize=18) # Etiqueta eje X\n",
    "plt.ylabel('Amplitude',fontsize=18) # Etiqueta eje Y\n",
    "plt.title('Señales de Audio (Original y Filtrada)',fontsize=18)\n",
    "plt.legend(loc='best')\n",
    "\n",
    "plt.show() # Mostrar la grafica\n",
    "Audio(y3 , rate=fs3) #"
   ]
  },
  {
   "cell_type": "markdown",
   "metadata": {},
   "source": [
    "## 2. Ecualizacion"
   ]
  },
  {
   "cell_type": "code",
   "execution_count": null,
   "metadata": {},
   "outputs": [],
   "source": [
    "import numpy as np  \n",
    "from scipy.io import wavfile\n",
    "import matplotlib.pyplot as plt\n",
    "from scipy.signal import freqz\n",
    "import sounddevice as sd\n",
    "from numpy import pi\n",
    "\n",
    "# Cargar audio\n",
    "samplerate, audio = wavfile.read('violin.wav')  \n",
    "\n",
    "# Frecuencias de corte iniciales\n",
    "fc_low = [200, 500, 2000, 6000, 8000]\n",
    "fc_high = [500, 1000, 5000, 8000, 15000]\n",
    "\n",
    "# Ganancias por banda  \n",
    "gains = [1, 5, 1, -3, 1]  \n",
    "\n",
    "# Diseño de filtros FIR y ventanas\n",
    "filts = []\n",
    "for i, (flow, fhigh, gain) in enumerate(zip(fc_low, fc_high, gains)):\n",
    "\n",
    "    if i == 0:  # Banda 1 - Filtro pasa bajos con ventana blackman\n",
    "        Nlow = 2646\n",
    "        nlow = np.arange(-Nlow//2+1, Nlow//2+1)\n",
    "        w1 = 2 * pi * flow / (samplerate)\n",
    "        hi1 = w1 / pi * np.sinc(w1 * nlow / pi)\n",
    "        win1 = 0.42 - 0.5 * np.cos(2 * pi * nlow / (Nlow - 1)) + 0.08 * np.cos(4 * pi * nlow / (Nlow - 1))\n",
    "        fir_low = hi1 * win1\n",
    "        filts.append(('low', fir_low, gain))\n",
    "\n",
    "    elif i == 4:  # Banda 5 - Filtro pasa altos con ventana blackman\n",
    "        Nhigh = 2646 \n",
    "        nhigh = np.arange(-Nhigh//2+1, Nhigh//2+1)\n",
    "        w2 = 2 * pi * fhigh / (samplerate)\n",
    "        hi2 = -(w2 / pi * np.sinc(w2 * nhigh / pi))\n",
    "        hi2[Nhigh//2] = 1 - 2 * (fhigh / samplerate)\n",
    "        win2 = 0.42 - 0.5 * np.cos(2 * pi * nhigh / (Nhigh - 1)) + 0.08 * np.cos(4 * pi * nhigh / (Nhigh - 1))\n",
    "        fir_high = hi2 * win2\n",
    "        filts.append(('high', fir_high, gain))\n",
    "\n",
    "    else:  # Banda 2, 3, 4 - Filtro pasa banda con ventana hamming\n",
    "        Nmed = 1764\n",
    "        nmed = np.arange(-Nmed//2+1, Nmed//2+1)\n",
    "        w_low = 2 * pi * flow / (samplerate)\n",
    "        w_high = 2 * pi * fhigh / (samplerate)\n",
    "        hi3 = (w_high / pi) * np.sinc(w_high * nmed / pi) - (w_low / pi) * np.sinc(w_low * nmed / pi)\n",
    "        hi3[Nmed//2] = 1 - (w_high - w_low) / pi\n",
    "        win3 = 0.54 - 0.46 * np.cos(2 * pi * np.arange(len(nmed)) / (Nmed - 1))\n",
    "        fir_bp = hi3 * win3\n",
    "        filts.append(('bp', fir_bp, gain))\n",
    "\n",
    "# Graficar respuesta en frecuencia para cada filtro\n",
    "plt.figure(figsize=(12, 10))\n",
    "\n",
    "for i, (type_, fir, gain) in enumerate(filts):\n",
    "    freq, resp = freqz(fir * gain, whole=True, worN=8000, fs=samplerate)\n",
    "    plt.plot(freq, 20 * np.log10(np.abs(resp)), label=f'{type_} - Banda {i+1}, Ganancia: {gain} dB')\n",
    "\n",
    "plt.title('Respuesta en Frecuencia de los Filtros')\n",
    "plt.xlabel('Frecuencia (Hz)')\n",
    "plt.ylabel('Amplitud (dB)')\n",
    "plt.legend()\n",
    "plt.grid(True)\n",
    "plt.show()\n",
    "\n",
    "# Filtrado de cada banda  \n",
    "audio_eq = np.zeros_like(audio, dtype=\"float64\")\n",
    "for type_, fir, gain in filts:\n",
    "    audio_eq += np.convolve(audio, fir * gain)[:len(audio)]\n",
    "\n",
    "# Normalizar la señal para evitar clipping\n",
    "audio_eq /= np.max(np.abs(audio_eq))\n",
    "\n",
    "audio_norm = audio / np.max(np.abs(audio))\n",
    "audio_eq_norm = audio_eq / np.max(np.abs(audio_eq)) \n",
    "\n",
    "# Señal original\n",
    "plt.figure(figsize=(10, 5))\n",
    "plt.plot(audio_norm, color='darkorange', label='Señal Original')\n",
    "plt.legend()\n",
    "plt.xlabel('Muestras')\n",
    "plt.ylabel('Amplitud Normalizada')  \n",
    "plt.title('Señal Original')\n",
    "plt.grid(True)\n",
    "plt.show()\n",
    "\n",
    "# Señal ecualizada\n",
    "plt.figure(figsize=(10, 5)) \n",
    "plt.plot(audio_eq_norm, color='darkred', label='Señal Ecualizada')\n",
    "plt.legend()\n",
    "plt.xlabel('Muestras')\n",
    "plt.ylabel('Amplitud Normalizada')\n",
    "plt.title('Señal Ecualizada')\n",
    "plt.grid(True)\n",
    "plt.show()\n",
    "\n",
    "# Comparación\n",
    "plt.figure(figsize=(10, 5))\n",
    "plt.plot(audio_norm, color='darkorange', label='Original')\n",
    "plt.plot(audio_eq_norm, color='darkred', label='Ecualizada') \n",
    "plt.legend()\n",
    "plt.xlabel('Muestras')\n",
    "plt.ylabel('Amplitud Normalizada')  \n",
    "plt.title('Comparación')\n",
    "plt.grid(True)\n",
    "plt.show()\n",
    "\n",
    "# Reproducir audio ecualizado\n",
    "sd.play(audio_eq, samplerate)\n",
    "sd.wait()\n"
   ]
  }
 ],
 "metadata": {
  "kernelspec": {
   "display_name": "Python 3",
   "language": "python",
   "name": "python3"
  },
  "language_info": {
   "codemirror_mode": {
    "name": "ipython",
    "version": 3
   },
   "file_extension": ".py",
   "mimetype": "text/x-python",
   "name": "python",
   "nbconvert_exporter": "python",
   "pygments_lexer": "ipython3",
   "version": "3.11.6"
  }
 },
 "nbformat": 4,
 "nbformat_minor": 2
}
